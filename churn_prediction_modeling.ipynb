{
 "cells": [
  {
   "cell_type": "code",
   "execution_count": 1,
   "id": "5d3ba73a",
   "metadata": {},
   "outputs": [],
   "source": [
    "import pandas as pd\n",
    "import numpy as np\n",
    "import matplotlib.pyplot as plt\n",
    "import seaborn as sns\n",
    "from sklearn.preprocessing import LabelEncoder,MinMaxScaler,StandardScaler\n",
    "\n",
    "from sklearn.linear_model import LogisticRegression\n",
    "from sklearn.neighbors import KNeighborsClassifier\n",
    "from sklearn.tree import DecisionTreeClassifier\n",
    "from sklearn.ensemble import RandomForestClassifier, AdaBoostClassifier\n",
    "\n",
    "\n",
    "from sklearn.model_selection import GridSearchCV,RandomizedSearchCV\n",
    "from sklearn.model_selection import train_test_split\n",
    "\n",
    "from sklearn.metrics import confusion_matrix,classification_report\n",
    "\n",
    "import warnings\n",
    "warnings.filterwarnings('ignore')"
   ]
  },
  {
   "cell_type": "markdown",
   "id": "7be637ea",
   "metadata": {},
   "source": [
    "# Problem Statement"
   ]
  },
  {
   "cell_type": "markdown",
   "id": "78bdcc31",
   "metadata": {},
   "source": [
    "### In a competitive market, many a time we observe the customer-behaviour of switching from one provider to another, specially in cases where customers are dissatisfied with the service provided, or when their requirements change. In such cases, churn prediction modeling or the task of identifying customers who are likely to discontinue use of a service, renders extremely useful to the industry.\n",
    "\n"
   ]
  },
  {
   "cell_type": "markdown",
   "id": "42e106b0",
   "metadata": {},
   "source": [
    "# Data Gathering"
   ]
  },
  {
   "cell_type": "code",
   "execution_count": 2,
   "id": "a61d5692",
   "metadata": {},
   "outputs": [
    {
     "data": {
      "text/html": [
       "<div>\n",
       "<style scoped>\n",
       "    .dataframe tbody tr th:only-of-type {\n",
       "        vertical-align: middle;\n",
       "    }\n",
       "\n",
       "    .dataframe tbody tr th {\n",
       "        vertical-align: top;\n",
       "    }\n",
       "\n",
       "    .dataframe thead th {\n",
       "        text-align: right;\n",
       "    }\n",
       "</style>\n",
       "<table border=\"1\" class=\"dataframe\">\n",
       "  <thead>\n",
       "    <tr style=\"text-align: right;\">\n",
       "      <th></th>\n",
       "      <th>CustomerID</th>\n",
       "      <th>v1</th>\n",
       "      <th>v2</th>\n",
       "      <th>v3</th>\n",
       "      <th>v4</th>\n",
       "      <th>v5</th>\n",
       "      <th>v6</th>\n",
       "      <th>v7</th>\n",
       "      <th>v8</th>\n",
       "      <th>v9</th>\n",
       "      <th>...</th>\n",
       "      <th>v13</th>\n",
       "      <th>v14</th>\n",
       "      <th>v15</th>\n",
       "      <th>v16</th>\n",
       "      <th>v17</th>\n",
       "      <th>v18</th>\n",
       "      <th>v19</th>\n",
       "      <th>v20</th>\n",
       "      <th>v21</th>\n",
       "      <th>Churn</th>\n",
       "    </tr>\n",
       "  </thead>\n",
       "  <tbody>\n",
       "    <tr>\n",
       "      <th>0</th>\n",
       "      <td>C3</td>\n",
       "      <td>P576</td>\n",
       "      <td>Lucknow</td>\n",
       "      <td>Z733</td>\n",
       "      <td>3824.74</td>\n",
       "      <td>0</td>\n",
       "      <td>0.0</td>\n",
       "      <td>0</td>\n",
       "      <td>3824.74</td>\n",
       "      <td>0.0</td>\n",
       "      <td>...</td>\n",
       "      <td>Delivered</td>\n",
       "      <td>CC105</td>\n",
       "      <td>RC29494</td>\n",
       "      <td>RC31</td>\n",
       "      <td>G13167</td>\n",
       "      <td>False</td>\n",
       "      <td>FALSE</td>\n",
       "      <td>FALSE</td>\n",
       "      <td>False</td>\n",
       "      <td>0</td>\n",
       "    </tr>\n",
       "    <tr>\n",
       "      <th>1</th>\n",
       "      <td>C4</td>\n",
       "      <td>P580</td>\n",
       "      <td>Jammu</td>\n",
       "      <td>Z514</td>\n",
       "      <td>3824.74</td>\n",
       "      <td>0</td>\n",
       "      <td>0.0</td>\n",
       "      <td>0</td>\n",
       "      <td>3824.74</td>\n",
       "      <td>0.0</td>\n",
       "      <td>...</td>\n",
       "      <td>Delivered</td>\n",
       "      <td>CC105</td>\n",
       "      <td>RC29494</td>\n",
       "      <td>RC31</td>\n",
       "      <td>G13167</td>\n",
       "      <td>False</td>\n",
       "      <td>FALSE</td>\n",
       "      <td>FALSE</td>\n",
       "      <td>False</td>\n",
       "      <td>1</td>\n",
       "    </tr>\n",
       "    <tr>\n",
       "      <th>2</th>\n",
       "      <td>C5</td>\n",
       "      <td>P582</td>\n",
       "      <td>Durg</td>\n",
       "      <td>Z2442</td>\n",
       "      <td>3824.74</td>\n",
       "      <td>0</td>\n",
       "      <td>0.0</td>\n",
       "      <td>0</td>\n",
       "      <td>3824.74</td>\n",
       "      <td>0.0</td>\n",
       "      <td>...</td>\n",
       "      <td>Delivered</td>\n",
       "      <td>CC105</td>\n",
       "      <td>RC29494</td>\n",
       "      <td>RC31</td>\n",
       "      <td>G13167</td>\n",
       "      <td>False</td>\n",
       "      <td>FALSE</td>\n",
       "      <td>FALSE</td>\n",
       "      <td>False</td>\n",
       "      <td>0</td>\n",
       "    </tr>\n",
       "    <tr>\n",
       "      <th>3</th>\n",
       "      <td>C7</td>\n",
       "      <td>P576</td>\n",
       "      <td>Kolkata</td>\n",
       "      <td>Z4345</td>\n",
       "      <td>3711.86</td>\n",
       "      <td>0</td>\n",
       "      <td>0.0</td>\n",
       "      <td>0</td>\n",
       "      <td>3824.74</td>\n",
       "      <td>0.0</td>\n",
       "      <td>...</td>\n",
       "      <td>Delivered</td>\n",
       "      <td>CC105</td>\n",
       "      <td>RC29494</td>\n",
       "      <td>RC31</td>\n",
       "      <td>G13167</td>\n",
       "      <td>False</td>\n",
       "      <td>FALSE</td>\n",
       "      <td>FALSE</td>\n",
       "      <td>False</td>\n",
       "      <td>0</td>\n",
       "    </tr>\n",
       "    <tr>\n",
       "      <th>4</th>\n",
       "      <td>C8</td>\n",
       "      <td>P582</td>\n",
       "      <td>Thane</td>\n",
       "      <td>Z1663</td>\n",
       "      <td>3824.74</td>\n",
       "      <td>0</td>\n",
       "      <td>0.0</td>\n",
       "      <td>0</td>\n",
       "      <td>3824.74</td>\n",
       "      <td>0.0</td>\n",
       "      <td>...</td>\n",
       "      <td>Delivered</td>\n",
       "      <td>CC105</td>\n",
       "      <td>RC29494</td>\n",
       "      <td>RC31</td>\n",
       "      <td>G13167</td>\n",
       "      <td>False</td>\n",
       "      <td>FALSE</td>\n",
       "      <td>FALSE</td>\n",
       "      <td>False</td>\n",
       "      <td>1</td>\n",
       "    </tr>\n",
       "    <tr>\n",
       "      <th>...</th>\n",
       "      <td>...</td>\n",
       "      <td>...</td>\n",
       "      <td>...</td>\n",
       "      <td>...</td>\n",
       "      <td>...</td>\n",
       "      <td>...</td>\n",
       "      <td>...</td>\n",
       "      <td>...</td>\n",
       "      <td>...</td>\n",
       "      <td>...</td>\n",
       "      <td>...</td>\n",
       "      <td>...</td>\n",
       "      <td>...</td>\n",
       "      <td>...</td>\n",
       "      <td>...</td>\n",
       "      <td>...</td>\n",
       "      <td>...</td>\n",
       "      <td>...</td>\n",
       "      <td>...</td>\n",
       "      <td>...</td>\n",
       "      <td>...</td>\n",
       "    </tr>\n",
       "    <tr>\n",
       "      <th>29884</th>\n",
       "      <td>C24111</td>\n",
       "      <td>P582</td>\n",
       "      <td>Moga</td>\n",
       "      <td>Z271</td>\n",
       "      <td>3824.74</td>\n",
       "      <td>0</td>\n",
       "      <td>0.0</td>\n",
       "      <td>0</td>\n",
       "      <td>3824.74</td>\n",
       "      <td>0.0</td>\n",
       "      <td>...</td>\n",
       "      <td>Cancelled</td>\n",
       "      <td>CC105</td>\n",
       "      <td>RC29483</td>\n",
       "      <td>RC31</td>\n",
       "      <td>G13167</td>\n",
       "      <td>False</td>\n",
       "      <td>FALSE</td>\n",
       "      <td>FALSE</td>\n",
       "      <td>False</td>\n",
       "      <td>0</td>\n",
       "    </tr>\n",
       "    <tr>\n",
       "      <th>29885</th>\n",
       "      <td>C24323</td>\n",
       "      <td>P147</td>\n",
       "      <td>Surat</td>\n",
       "      <td>Z1511</td>\n",
       "      <td>449.70</td>\n",
       "      <td>0</td>\n",
       "      <td>0.0</td>\n",
       "      <td>0</td>\n",
       "      <td>449.70</td>\n",
       "      <td>0.0</td>\n",
       "      <td>...</td>\n",
       "      <td>Delivered</td>\n",
       "      <td>CC1817</td>\n",
       "      <td>RC23424</td>\n",
       "      <td>RC32</td>\n",
       "      <td>G23596</td>\n",
       "      <td>False</td>\n",
       "      <td>FALSE</td>\n",
       "      <td>FALSE</td>\n",
       "      <td>False</td>\n",
       "      <td>0</td>\n",
       "    </tr>\n",
       "    <tr>\n",
       "      <th>29886</th>\n",
       "      <td>C26227</td>\n",
       "      <td>P145</td>\n",
       "      <td>Surat</td>\n",
       "      <td>Z1511</td>\n",
       "      <td>519.25</td>\n",
       "      <td>0</td>\n",
       "      <td>0.0</td>\n",
       "      <td>0</td>\n",
       "      <td>519.25</td>\n",
       "      <td>0.0</td>\n",
       "      <td>...</td>\n",
       "      <td>Shipped</td>\n",
       "      <td>CC1711</td>\n",
       "      <td>RC26089</td>\n",
       "      <td>RC32</td>\n",
       "      <td>G26326</td>\n",
       "      <td>False</td>\n",
       "      <td>FALSE</td>\n",
       "      <td>FALSE</td>\n",
       "      <td>False</td>\n",
       "      <td>0</td>\n",
       "    </tr>\n",
       "    <tr>\n",
       "      <th>29887</th>\n",
       "      <td>C28695</td>\n",
       "      <td>P148</td>\n",
       "      <td>Hyderabad</td>\n",
       "      <td>Z2549</td>\n",
       "      <td>637.52</td>\n",
       "      <td>0</td>\n",
       "      <td>0.0</td>\n",
       "      <td>0</td>\n",
       "      <td>637.52</td>\n",
       "      <td>0.0</td>\n",
       "      <td>...</td>\n",
       "      <td>Shipped</td>\n",
       "      <td>CC106</td>\n",
       "      <td>RC28375</td>\n",
       "      <td>RC32</td>\n",
       "      <td>G28625</td>\n",
       "      <td>False</td>\n",
       "      <td>FALSE</td>\n",
       "      <td>FALSE</td>\n",
       "      <td>False</td>\n",
       "      <td>0</td>\n",
       "    </tr>\n",
       "    <tr>\n",
       "      <th>29888</th>\n",
       "      <td>C28832</td>\n",
       "      <td>P152</td>\n",
       "      <td>delhi</td>\n",
       "      <td>Z8</td>\n",
       "      <td>679.20</td>\n",
       "      <td>0</td>\n",
       "      <td>0.0</td>\n",
       "      <td>0</td>\n",
       "      <td>679.20</td>\n",
       "      <td>0.0</td>\n",
       "      <td>...</td>\n",
       "      <td>Delivered</td>\n",
       "      <td>CC106</td>\n",
       "      <td>RC28496</td>\n",
       "      <td>RC32</td>\n",
       "      <td>G28749</td>\n",
       "      <td>False</td>\n",
       "      <td>FALSE</td>\n",
       "      <td>FALSE</td>\n",
       "      <td>False</td>\n",
       "      <td>0</td>\n",
       "    </tr>\n",
       "  </tbody>\n",
       "</table>\n",
       "<p>29889 rows × 23 columns</p>\n",
       "</div>"
      ],
      "text/plain": [
       "      CustomerID    v1         v2     v3       v4  v5   v6  v7       v8   v9  \\\n",
       "0             C3  P576    Lucknow   Z733  3824.74   0  0.0   0  3824.74  0.0   \n",
       "1             C4  P580      Jammu   Z514  3824.74   0  0.0   0  3824.74  0.0   \n",
       "2             C5  P582       Durg  Z2442  3824.74   0  0.0   0  3824.74  0.0   \n",
       "3             C7  P576    Kolkata  Z4345  3711.86   0  0.0   0  3824.74  0.0   \n",
       "4             C8  P582      Thane  Z1663  3824.74   0  0.0   0  3824.74  0.0   \n",
       "...          ...   ...        ...    ...      ...  ..  ...  ..      ...  ...   \n",
       "29884     C24111  P582       Moga   Z271  3824.74   0  0.0   0  3824.74  0.0   \n",
       "29885     C24323  P147      Surat  Z1511   449.70   0  0.0   0   449.70  0.0   \n",
       "29886     C26227  P145      Surat  Z1511   519.25   0  0.0   0   519.25  0.0   \n",
       "29887     C28695  P148  Hyderabad  Z2549   637.52   0  0.0   0   637.52  0.0   \n",
       "29888     C28832  P152      delhi     Z8   679.20   0  0.0   0   679.20  0.0   \n",
       "\n",
       "       ...        v13     v14      v15   v16     v17    v18    v19    v20  \\\n",
       "0      ...  Delivered   CC105  RC29494  RC31  G13167  False  FALSE  FALSE   \n",
       "1      ...  Delivered   CC105  RC29494  RC31  G13167  False  FALSE  FALSE   \n",
       "2      ...  Delivered   CC105  RC29494  RC31  G13167  False  FALSE  FALSE   \n",
       "3      ...  Delivered   CC105  RC29494  RC31  G13167  False  FALSE  FALSE   \n",
       "4      ...  Delivered   CC105  RC29494  RC31  G13167  False  FALSE  FALSE   \n",
       "...    ...        ...     ...      ...   ...     ...    ...    ...    ...   \n",
       "29884  ...  Cancelled   CC105  RC29483  RC31  G13167  False  FALSE  FALSE   \n",
       "29885  ...  Delivered  CC1817  RC23424  RC32  G23596  False  FALSE  FALSE   \n",
       "29886  ...    Shipped  CC1711  RC26089  RC32  G26326  False  FALSE  FALSE   \n",
       "29887  ...    Shipped   CC106  RC28375  RC32  G28625  False  FALSE  FALSE   \n",
       "29888  ...  Delivered   CC106  RC28496  RC32  G28749  False  FALSE  FALSE   \n",
       "\n",
       "         v21 Churn  \n",
       "0      False     0  \n",
       "1      False     1  \n",
       "2      False     0  \n",
       "3      False     0  \n",
       "4      False     1  \n",
       "...      ...   ...  \n",
       "29884  False     0  \n",
       "29885  False     0  \n",
       "29886  False     0  \n",
       "29887  False     0  \n",
       "29888  False     0  \n",
       "\n",
       "[29889 rows x 23 columns]"
      ]
     },
     "execution_count": 2,
     "metadata": {},
     "output_type": "execute_result"
    }
   ],
   "source": [
    "data = pd.read_csv(r'churn_dataset.csv')\n",
    "data"
   ]
  },
  {
   "cell_type": "markdown",
   "id": "aad5fa24",
   "metadata": {},
   "source": [
    "# Preprocessing"
   ]
  },
  {
   "cell_type": "markdown",
   "id": "aaf14e32",
   "metadata": {},
   "source": [
    "### EDA / Feature Engineering / Feature Selection"
   ]
  },
  {
   "cell_type": "code",
   "execution_count": 3,
   "id": "24bde506",
   "metadata": {},
   "outputs": [
    {
     "name": "stdout",
     "output_type": "stream",
     "text": [
      "<class 'pandas.core.frame.DataFrame'>\n",
      "RangeIndex: 29889 entries, 0 to 29888\n",
      "Data columns (total 23 columns):\n",
      " #   Column      Non-Null Count  Dtype  \n",
      "---  ------      --------------  -----  \n",
      " 0   CustomerID  29889 non-null  object \n",
      " 1   v1          29889 non-null  object \n",
      " 2   v2          29889 non-null  object \n",
      " 3   v3          29889 non-null  object \n",
      " 4   v4          29889 non-null  float64\n",
      " 5   v5          29889 non-null  int64  \n",
      " 6   v6          29889 non-null  float64\n",
      " 7   v7          29889 non-null  int64  \n",
      " 8   v8          29889 non-null  float64\n",
      " 9   v9          29889 non-null  float64\n",
      " 10  v10         29889 non-null  float64\n",
      " 11  v11         29889 non-null  float64\n",
      " 12  v12         29889 non-null  float64\n",
      " 13  v13         29889 non-null  object \n",
      " 14  v14         29889 non-null  object \n",
      " 15  v15         29889 non-null  object \n",
      " 16  v16         29889 non-null  object \n",
      " 17  v17         29889 non-null  object \n",
      " 18  v18         29889 non-null  bool   \n",
      " 19  v19         29889 non-null  object \n",
      " 20  v20         29889 non-null  object \n",
      " 21  v21         29889 non-null  bool   \n",
      " 22  Churn       29889 non-null  int64  \n",
      "dtypes: bool(2), float64(7), int64(3), object(11)\n",
      "memory usage: 4.8+ MB\n"
     ]
    }
   ],
   "source": [
    "data.info()"
   ]
  },
  {
   "cell_type": "code",
   "execution_count": 4,
   "id": "b732c1fc",
   "metadata": {},
   "outputs": [
    {
     "name": "stdout",
     "output_type": "stream",
     "text": [
      "Categorical Features:\n",
      " Index(['CustomerID', 'v1', 'v2', 'v3', 'v13', 'v14', 'v15', 'v16', 'v17',\n",
      "       'v19', 'v20'],\n",
      "      dtype='object') \n",
      " No of categorical features: 11\n",
      "Numerical Features:\n",
      " Index(['v4', 'v5', 'v6', 'v7', 'v8', 'v9', 'v10', 'v11', 'v12', 'v18', 'v21',\n",
      "       'Churn'],\n",
      "      dtype='object') \n",
      " No of numerical features: 12\n"
     ]
    }
   ],
   "source": [
    "#Categorical Features\n",
    "cat_features=data.select_dtypes(include='object').columns\n",
    "print(\"Categorical Features:\\n\",cat_features,\"\\n No of categorical features:\",len(cat_features))\n",
    "\n",
    "#Numerical Features\n",
    "num_features=data.select_dtypes(exclude='object').columns\n",
    "print(\"Numerical Features:\\n\",num_features,\"\\n No of numerical features:\",len(num_features))"
   ]
  },
  {
   "cell_type": "code",
   "execution_count": 5,
   "id": "2af8198b",
   "metadata": {},
   "outputs": [
    {
     "name": "stdout",
     "output_type": "stream",
     "text": [
      "CustomerID\n",
      "****\n",
      "C14904    1\n",
      "C11097    1\n",
      "C9461     1\n",
      "C9762     1\n",
      "C2549     1\n",
      "         ..\n",
      "C6262     1\n",
      "C28557    1\n",
      "C11163    1\n",
      "C5961     1\n",
      "C14525    1\n",
      "Name: CustomerID, Length: 29889, dtype: int64\n",
      "#########################################################################\n",
      "\n",
      "\n",
      "\n",
      "v1\n",
      "****\n",
      "P576    8443\n",
      "P582    8319\n",
      "P580    5572\n",
      "P152    1088\n",
      "P148    1009\n",
      "        ... \n",
      "P620       1\n",
      "P99        1\n",
      "P76        1\n",
      "P607       1\n",
      "P96        1\n",
      "Name: v1, Length: 65, dtype: int64\n",
      "#########################################################################\n",
      "\n",
      "\n",
      "\n",
      "v2\n",
      "****\n",
      "Bangalore                            1995\n",
      "New Delhi                            1621\n",
      "Pune                                 1369\n",
      "Mumbai                               1290\n",
      "Hyderabad                            1250\n",
      "                                     ... \n",
      "neyveli                                 1\n",
      "HINDUPUR                                1\n",
      "['Jorhat' 'Mumbai' 'Narsinghpur']       1\n",
      "['SANGAMNER' 'Sangamner']               1\n",
      "orai                                    1\n",
      "Name: v2, Length: 2155, dtype: int64\n",
      "#########################################################################\n",
      "\n",
      "\n",
      "\n",
      "v3\n",
      "****\n",
      "Z591     217\n",
      "Z107     190\n",
      "Z1835    120\n",
      "Z828     104\n",
      "Z3067    101\n",
      "        ... \n",
      "Z3737      1\n",
      "Z5061      1\n",
      "Z339       1\n",
      "Z5216      1\n",
      "Z3740      1\n",
      "Name: v3, Length: 5566, dtype: int64\n",
      "#########################################################################\n",
      "\n",
      "\n",
      "\n",
      "v13\n",
      "****\n",
      "Delivered                                          14630\n",
      "['Delivered' 'Shipped']                            11572\n",
      "Shipped                                             2612\n",
      "['Cancelled' 'Delivered']                            455\n",
      "Cancelled                                            444\n",
      "['Cancelled' 'Delivered' 'Shipped']                  143\n",
      "['Cancelled' 'Shipped']                               13\n",
      "['Confirmed' 'Delivered' 'Shipped']                    7\n",
      "['Confirmed' 'Delivered']                              6\n",
      "['Confirmed' 'Shipped']                                3\n",
      "['Cancelled' 'Confirmed']                              1\n",
      "Confirmed                                              1\n",
      "['Cancelled' 'Confirmed' 'Delivered' 'Shipped']        1\n",
      "['Cancelled' 'Confirmed' 'Delivered']                  1\n",
      "Name: v13, dtype: int64\n",
      "#########################################################################\n",
      "\n",
      "\n",
      "\n",
      "v14\n",
      "****\n",
      "CC106     20772\n",
      "CC1711     2534\n",
      "CC105      2274\n",
      "CC1692     1845\n",
      "CC1779      764\n",
      "          ...  \n",
      "CC1852        1\n",
      "CC1911        1\n",
      "CC9           1\n",
      "CC1758        1\n",
      "CC1712        1\n",
      "Name: v14, Length: 255, dtype: int64\n",
      "#########################################################################\n",
      "\n",
      "\n",
      "\n",
      "v15\n",
      "****\n",
      "RC29483    7848\n",
      "RC29494    4443\n",
      "RC29507    3482\n",
      "RC29488     414\n",
      "RC29502     313\n",
      "           ... \n",
      "RC13090       1\n",
      "RC7054        1\n",
      "RC7139        1\n",
      "RC4423        1\n",
      "RC2989        1\n",
      "Name: v15, Length: 12022, dtype: int64\n",
      "#########################################################################\n",
      "\n",
      "\n",
      "\n",
      "v16\n",
      "****\n",
      "RC32    27192\n",
      "RC31     2545\n",
      "RC33      143\n",
      "RC35        6\n",
      "RC34        1\n",
      "RC4         1\n",
      "RC9         1\n",
      "Name: v16, dtype: int64\n",
      "#########################################################################\n",
      "\n",
      "\n",
      "\n",
      "v17\n",
      "****\n",
      "G13167    5088\n",
      "G16737      20\n",
      "G8177       13\n",
      "G608        10\n",
      "G4306        7\n",
      "          ... \n",
      "G16103       1\n",
      "G4270        1\n",
      "G28218       1\n",
      "G19764       1\n",
      "G22692       1\n",
      "Name: v17, Length: 24752, dtype: int64\n",
      "#########################################################################\n",
      "\n",
      "\n",
      "\n",
      "v19\n",
      "****\n",
      "FALSE           29884\n",
      "[False True]        5\n",
      "Name: v19, dtype: int64\n",
      "#########################################################################\n",
      "\n",
      "\n",
      "\n",
      "v20\n",
      "****\n",
      "FALSE           29885\n",
      "[False True]        4\n",
      "Name: v20, dtype: int64\n",
      "#########################################################################\n",
      "\n",
      "\n",
      "\n"
     ]
    }
   ],
   "source": [
    "# Statistical Value counts for Categorical Features\n",
    "for feature in cat_features:\n",
    "    print(f\"{feature}\")\n",
    "    print(\"****\")\n",
    "    print(data[feature].value_counts())\n",
    "    print(\"#########################################################################\")\n",
    "    print(\"\\n\\n\")"
   ]
  },
  {
   "cell_type": "code",
   "execution_count": 6,
   "id": "7edd2b14",
   "metadata": {},
   "outputs": [],
   "source": [
    "## Total 11 Features droped for below reasons:-\n",
    "# CustomerID feature contains all unique records\n",
    "# [v5,v7] feature contains All values as [0]\n",
    "# v6 feature contains 88.9% values as [0] \n",
    "# v9 feature contains 99.7% values as [0]\n",
    "# v12 feature contains 99.8% values as [0]\n",
    "# v15 feature contains 12022 unique values\n",
    "# v16 feature contains 27192 same values of RC32\n",
    "# v17 feature contains 24742 unique values which is 82.8%\n",
    "# [v18,v19,v20,v21] feature contains all values as False\n",
    "\n",
    "\n",
    "data.drop(['CustomerID','v5',\"v6\",'v7',\"v9\",\"v12\",'v15','v16',\"v17\",'v18','v19','v20','v21'],axis = 1,inplace = True)"
   ]
  },
  {
   "cell_type": "code",
   "execution_count": 7,
   "id": "c0ee7b58",
   "metadata": {
    "scrolled": true
   },
   "outputs": [
    {
     "data": {
      "text/html": [
       "<div>\n",
       "<style scoped>\n",
       "    .dataframe tbody tr th:only-of-type {\n",
       "        vertical-align: middle;\n",
       "    }\n",
       "\n",
       "    .dataframe tbody tr th {\n",
       "        vertical-align: top;\n",
       "    }\n",
       "\n",
       "    .dataframe thead th {\n",
       "        text-align: right;\n",
       "    }\n",
       "</style>\n",
       "<table border=\"1\" class=\"dataframe\">\n",
       "  <thead>\n",
       "    <tr style=\"text-align: right;\">\n",
       "      <th></th>\n",
       "      <th>v1</th>\n",
       "      <th>v2</th>\n",
       "      <th>v3</th>\n",
       "      <th>v4</th>\n",
       "      <th>v8</th>\n",
       "      <th>v10</th>\n",
       "      <th>v11</th>\n",
       "      <th>v13</th>\n",
       "      <th>v14</th>\n",
       "      <th>Churn</th>\n",
       "    </tr>\n",
       "  </thead>\n",
       "  <tbody>\n",
       "    <tr>\n",
       "      <th>0</th>\n",
       "      <td>P576</td>\n",
       "      <td>Lucknow</td>\n",
       "      <td>Z733</td>\n",
       "      <td>3824.74</td>\n",
       "      <td>3824.74</td>\n",
       "      <td>0.0</td>\n",
       "      <td>0.0</td>\n",
       "      <td>Delivered</td>\n",
       "      <td>CC105</td>\n",
       "      <td>0</td>\n",
       "    </tr>\n",
       "    <tr>\n",
       "      <th>1</th>\n",
       "      <td>P580</td>\n",
       "      <td>Jammu</td>\n",
       "      <td>Z514</td>\n",
       "      <td>3824.74</td>\n",
       "      <td>3824.74</td>\n",
       "      <td>0.0</td>\n",
       "      <td>0.0</td>\n",
       "      <td>Delivered</td>\n",
       "      <td>CC105</td>\n",
       "      <td>1</td>\n",
       "    </tr>\n",
       "    <tr>\n",
       "      <th>2</th>\n",
       "      <td>P582</td>\n",
       "      <td>Durg</td>\n",
       "      <td>Z2442</td>\n",
       "      <td>3824.74</td>\n",
       "      <td>3824.74</td>\n",
       "      <td>0.0</td>\n",
       "      <td>0.0</td>\n",
       "      <td>Delivered</td>\n",
       "      <td>CC105</td>\n",
       "      <td>0</td>\n",
       "    </tr>\n",
       "    <tr>\n",
       "      <th>3</th>\n",
       "      <td>P576</td>\n",
       "      <td>Kolkata</td>\n",
       "      <td>Z4345</td>\n",
       "      <td>3711.86</td>\n",
       "      <td>3824.74</td>\n",
       "      <td>0.0</td>\n",
       "      <td>0.0</td>\n",
       "      <td>Delivered</td>\n",
       "      <td>CC105</td>\n",
       "      <td>0</td>\n",
       "    </tr>\n",
       "    <tr>\n",
       "      <th>4</th>\n",
       "      <td>P582</td>\n",
       "      <td>Thane</td>\n",
       "      <td>Z1663</td>\n",
       "      <td>3824.74</td>\n",
       "      <td>3824.74</td>\n",
       "      <td>0.0</td>\n",
       "      <td>0.0</td>\n",
       "      <td>Delivered</td>\n",
       "      <td>CC105</td>\n",
       "      <td>1</td>\n",
       "    </tr>\n",
       "    <tr>\n",
       "      <th>...</th>\n",
       "      <td>...</td>\n",
       "      <td>...</td>\n",
       "      <td>...</td>\n",
       "      <td>...</td>\n",
       "      <td>...</td>\n",
       "      <td>...</td>\n",
       "      <td>...</td>\n",
       "      <td>...</td>\n",
       "      <td>...</td>\n",
       "      <td>...</td>\n",
       "    </tr>\n",
       "    <tr>\n",
       "      <th>29884</th>\n",
       "      <td>P582</td>\n",
       "      <td>Moga</td>\n",
       "      <td>Z271</td>\n",
       "      <td>3824.74</td>\n",
       "      <td>3824.74</td>\n",
       "      <td>1.0</td>\n",
       "      <td>0.0</td>\n",
       "      <td>Cancelled</td>\n",
       "      <td>CC105</td>\n",
       "      <td>0</td>\n",
       "    </tr>\n",
       "    <tr>\n",
       "      <th>29885</th>\n",
       "      <td>P147</td>\n",
       "      <td>Surat</td>\n",
       "      <td>Z1511</td>\n",
       "      <td>449.70</td>\n",
       "      <td>449.70</td>\n",
       "      <td>4.0</td>\n",
       "      <td>9.0</td>\n",
       "      <td>Delivered</td>\n",
       "      <td>CC1817</td>\n",
       "      <td>0</td>\n",
       "    </tr>\n",
       "    <tr>\n",
       "      <th>29886</th>\n",
       "      <td>P145</td>\n",
       "      <td>Surat</td>\n",
       "      <td>Z1511</td>\n",
       "      <td>519.25</td>\n",
       "      <td>519.25</td>\n",
       "      <td>3.0</td>\n",
       "      <td>9.0</td>\n",
       "      <td>Shipped</td>\n",
       "      <td>CC1711</td>\n",
       "      <td>0</td>\n",
       "    </tr>\n",
       "    <tr>\n",
       "      <th>29887</th>\n",
       "      <td>P148</td>\n",
       "      <td>Hyderabad</td>\n",
       "      <td>Z2549</td>\n",
       "      <td>637.52</td>\n",
       "      <td>637.52</td>\n",
       "      <td>3.0</td>\n",
       "      <td>9.0</td>\n",
       "      <td>Shipped</td>\n",
       "      <td>CC106</td>\n",
       "      <td>0</td>\n",
       "    </tr>\n",
       "    <tr>\n",
       "      <th>29888</th>\n",
       "      <td>P152</td>\n",
       "      <td>delhi</td>\n",
       "      <td>Z8</td>\n",
       "      <td>679.20</td>\n",
       "      <td>679.20</td>\n",
       "      <td>3.0</td>\n",
       "      <td>9.0</td>\n",
       "      <td>Delivered</td>\n",
       "      <td>CC106</td>\n",
       "      <td>0</td>\n",
       "    </tr>\n",
       "  </tbody>\n",
       "</table>\n",
       "<p>29889 rows × 10 columns</p>\n",
       "</div>"
      ],
      "text/plain": [
       "         v1         v2     v3       v4       v8  v10  v11        v13     v14  \\\n",
       "0      P576    Lucknow   Z733  3824.74  3824.74  0.0  0.0  Delivered   CC105   \n",
       "1      P580      Jammu   Z514  3824.74  3824.74  0.0  0.0  Delivered   CC105   \n",
       "2      P582       Durg  Z2442  3824.74  3824.74  0.0  0.0  Delivered   CC105   \n",
       "3      P576    Kolkata  Z4345  3711.86  3824.74  0.0  0.0  Delivered   CC105   \n",
       "4      P582      Thane  Z1663  3824.74  3824.74  0.0  0.0  Delivered   CC105   \n",
       "...     ...        ...    ...      ...      ...  ...  ...        ...     ...   \n",
       "29884  P582       Moga   Z271  3824.74  3824.74  1.0  0.0  Cancelled   CC105   \n",
       "29885  P147      Surat  Z1511   449.70   449.70  4.0  9.0  Delivered  CC1817   \n",
       "29886  P145      Surat  Z1511   519.25   519.25  3.0  9.0    Shipped  CC1711   \n",
       "29887  P148  Hyderabad  Z2549   637.52   637.52  3.0  9.0    Shipped   CC106   \n",
       "29888  P152      delhi     Z8   679.20   679.20  3.0  9.0  Delivered   CC106   \n",
       "\n",
       "       Churn  \n",
       "0          0  \n",
       "1          1  \n",
       "2          0  \n",
       "3          0  \n",
       "4          1  \n",
       "...      ...  \n",
       "29884      0  \n",
       "29885      0  \n",
       "29886      0  \n",
       "29887      0  \n",
       "29888      0  \n",
       "\n",
       "[29889 rows x 10 columns]"
      ]
     },
     "execution_count": 7,
     "metadata": {},
     "output_type": "execute_result"
    }
   ],
   "source": [
    "data"
   ]
  },
  {
   "cell_type": "markdown",
   "id": "8059410a",
   "metadata": {},
   "source": [
    "# Encoding"
   ]
  },
  {
   "cell_type": "code",
   "execution_count": 8,
   "id": "f51cc59d",
   "metadata": {},
   "outputs": [
    {
     "name": "stdout",
     "output_type": "stream",
     "text": [
      "65\n"
     ]
    }
   ],
   "source": [
    "# Label Encoding used on v1 feature\n",
    "le = LabelEncoder()\n",
    "le.fit(data.v1)\n",
    "data.v1 = pd.DataFrame(le.transform(data.v1))\n",
    "print(data.v1.nunique())"
   ]
  },
  {
   "cell_type": "code",
   "execution_count": 9,
   "id": "aacb2d8b",
   "metadata": {},
   "outputs": [
    {
     "name": "stdout",
     "output_type": "stream",
     "text": [
      "2155\n"
     ]
    }
   ],
   "source": [
    "# Label Encoding used on v2 feature\n",
    "le = LabelEncoder()\n",
    "le.fit(data.v2)\n",
    "data.v2 = pd.DataFrame(le.transform(data.v2))\n",
    "print(data.v2.nunique())"
   ]
  },
  {
   "cell_type": "code",
   "execution_count": 10,
   "id": "589cd3dd",
   "metadata": {},
   "outputs": [
    {
     "name": "stdout",
     "output_type": "stream",
     "text": [
      "5566\n"
     ]
    }
   ],
   "source": [
    "# Label Encoding used on v3 feature\n",
    "le = LabelEncoder()\n",
    "le.fit(data.v3)\n",
    "data.v3 = pd.DataFrame(le.transform(data.v3))\n",
    "print(data.v3.nunique())"
   ]
  },
  {
   "cell_type": "code",
   "execution_count": 11,
   "id": "ee28944f",
   "metadata": {},
   "outputs": [
    {
     "name": "stdout",
     "output_type": "stream",
     "text": [
      "14\n"
     ]
    }
   ],
   "source": [
    "# Label Encoding used on v13 feature\n",
    "le = LabelEncoder()\n",
    "le.fit(data.v13)\n",
    "data.v13 = pd.DataFrame(le.transform(data.v13))\n",
    "print(data.v13.nunique())"
   ]
  },
  {
   "cell_type": "code",
   "execution_count": 12,
   "id": "b990dd7c",
   "metadata": {},
   "outputs": [
    {
     "name": "stdout",
     "output_type": "stream",
     "text": [
      "255\n"
     ]
    }
   ],
   "source": [
    "# Label Encoding used on v14 feature\n",
    "le = LabelEncoder()\n",
    "le.fit(data.v14)\n",
    "data.v14 = pd.DataFrame(le.transform(data.v14))\n",
    "print(data.v14.nunique())"
   ]
  },
  {
   "cell_type": "code",
   "execution_count": 13,
   "id": "a1405791",
   "metadata": {},
   "outputs": [
    {
     "data": {
      "text/html": [
       "<div>\n",
       "<style scoped>\n",
       "    .dataframe tbody tr th:only-of-type {\n",
       "        vertical-align: middle;\n",
       "    }\n",
       "\n",
       "    .dataframe tbody tr th {\n",
       "        vertical-align: top;\n",
       "    }\n",
       "\n",
       "    .dataframe thead th {\n",
       "        text-align: right;\n",
       "    }\n",
       "</style>\n",
       "<table border=\"1\" class=\"dataframe\">\n",
       "  <thead>\n",
       "    <tr style=\"text-align: right;\">\n",
       "      <th></th>\n",
       "      <th>v1</th>\n",
       "      <th>v2</th>\n",
       "      <th>v3</th>\n",
       "      <th>v4</th>\n",
       "      <th>v8</th>\n",
       "      <th>v10</th>\n",
       "      <th>v11</th>\n",
       "      <th>v13</th>\n",
       "      <th>v14</th>\n",
       "      <th>Churn</th>\n",
       "    </tr>\n",
       "  </thead>\n",
       "  <tbody>\n",
       "    <tr>\n",
       "      <th>0</th>\n",
       "      <td>25</td>\n",
       "      <td>834</td>\n",
       "      <td>5025</td>\n",
       "      <td>3824.74</td>\n",
       "      <td>3824.74</td>\n",
       "      <td>0.0</td>\n",
       "      <td>0.0</td>\n",
       "      <td>2</td>\n",
       "      <td>7</td>\n",
       "      <td>0</td>\n",
       "    </tr>\n",
       "    <tr>\n",
       "      <th>1</th>\n",
       "      <td>27</td>\n",
       "      <td>639</td>\n",
       "      <td>4484</td>\n",
       "      <td>3824.74</td>\n",
       "      <td>3824.74</td>\n",
       "      <td>0.0</td>\n",
       "      <td>0.0</td>\n",
       "      <td>2</td>\n",
       "      <td>7</td>\n",
       "      <td>1</td>\n",
       "    </tr>\n",
       "    <tr>\n",
       "      <th>2</th>\n",
       "      <td>29</td>\n",
       "      <td>391</td>\n",
       "      <td>1559</td>\n",
       "      <td>3824.74</td>\n",
       "      <td>3824.74</td>\n",
       "      <td>0.0</td>\n",
       "      <td>0.0</td>\n",
       "      <td>2</td>\n",
       "      <td>7</td>\n",
       "      <td>0</td>\n",
       "    </tr>\n",
       "    <tr>\n",
       "      <th>3</th>\n",
       "      <td>25</td>\n",
       "      <td>790</td>\n",
       "      <td>3628</td>\n",
       "      <td>3711.86</td>\n",
       "      <td>3824.74</td>\n",
       "      <td>0.0</td>\n",
       "      <td>0.0</td>\n",
       "      <td>2</td>\n",
       "      <td>7</td>\n",
       "      <td>0</td>\n",
       "    </tr>\n",
       "    <tr>\n",
       "      <th>4</th>\n",
       "      <td>29</td>\n",
       "      <td>1365</td>\n",
       "      <td>721</td>\n",
       "      <td>3824.74</td>\n",
       "      <td>3824.74</td>\n",
       "      <td>0.0</td>\n",
       "      <td>0.0</td>\n",
       "      <td>2</td>\n",
       "      <td>7</td>\n",
       "      <td>1</td>\n",
       "    </tr>\n",
       "    <tr>\n",
       "      <th>...</th>\n",
       "      <td>...</td>\n",
       "      <td>...</td>\n",
       "      <td>...</td>\n",
       "      <td>...</td>\n",
       "      <td>...</td>\n",
       "      <td>...</td>\n",
       "      <td>...</td>\n",
       "      <td>...</td>\n",
       "      <td>...</td>\n",
       "      <td>...</td>\n",
       "    </tr>\n",
       "    <tr>\n",
       "      <th>29884</th>\n",
       "      <td>29</td>\n",
       "      <td>919</td>\n",
       "      <td>1847</td>\n",
       "      <td>3824.74</td>\n",
       "      <td>3824.74</td>\n",
       "      <td>1.0</td>\n",
       "      <td>0.0</td>\n",
       "      <td>0</td>\n",
       "      <td>7</td>\n",
       "      <td>0</td>\n",
       "    </tr>\n",
       "    <tr>\n",
       "      <th>29885</th>\n",
       "      <td>3</td>\n",
       "      <td>1334</td>\n",
       "      <td>556</td>\n",
       "      <td>449.70</td>\n",
       "      <td>449.70</td>\n",
       "      <td>4.0</td>\n",
       "      <td>9.0</td>\n",
       "      <td>2</td>\n",
       "      <td>127</td>\n",
       "      <td>0</td>\n",
       "    </tr>\n",
       "    <tr>\n",
       "      <th>29886</th>\n",
       "      <td>1</td>\n",
       "      <td>1334</td>\n",
       "      <td>556</td>\n",
       "      <td>519.25</td>\n",
       "      <td>519.25</td>\n",
       "      <td>3.0</td>\n",
       "      <td>9.0</td>\n",
       "      <td>3</td>\n",
       "      <td>58</td>\n",
       "      <td>0</td>\n",
       "    </tr>\n",
       "    <tr>\n",
       "      <th>29887</th>\n",
       "      <td>4</td>\n",
       "      <td>578</td>\n",
       "      <td>1673</td>\n",
       "      <td>637.52</td>\n",
       "      <td>637.52</td>\n",
       "      <td>3.0</td>\n",
       "      <td>9.0</td>\n",
       "      <td>3</td>\n",
       "      <td>8</td>\n",
       "      <td>0</td>\n",
       "    </tr>\n",
       "    <tr>\n",
       "      <th>29888</th>\n",
       "      <td>8</td>\n",
       "      <td>1796</td>\n",
       "      <td>5096</td>\n",
       "      <td>679.20</td>\n",
       "      <td>679.20</td>\n",
       "      <td>3.0</td>\n",
       "      <td>9.0</td>\n",
       "      <td>2</td>\n",
       "      <td>8</td>\n",
       "      <td>0</td>\n",
       "    </tr>\n",
       "  </tbody>\n",
       "</table>\n",
       "<p>29889 rows × 10 columns</p>\n",
       "</div>"
      ],
      "text/plain": [
       "       v1    v2    v3       v4       v8  v10  v11  v13  v14  Churn\n",
       "0      25   834  5025  3824.74  3824.74  0.0  0.0    2    7      0\n",
       "1      27   639  4484  3824.74  3824.74  0.0  0.0    2    7      1\n",
       "2      29   391  1559  3824.74  3824.74  0.0  0.0    2    7      0\n",
       "3      25   790  3628  3711.86  3824.74  0.0  0.0    2    7      0\n",
       "4      29  1365   721  3824.74  3824.74  0.0  0.0    2    7      1\n",
       "...    ..   ...   ...      ...      ...  ...  ...  ...  ...    ...\n",
       "29884  29   919  1847  3824.74  3824.74  1.0  0.0    0    7      0\n",
       "29885   3  1334   556   449.70   449.70  4.0  9.0    2  127      0\n",
       "29886   1  1334   556   519.25   519.25  3.0  9.0    3   58      0\n",
       "29887   4   578  1673   637.52   637.52  3.0  9.0    3    8      0\n",
       "29888   8  1796  5096   679.20   679.20  3.0  9.0    2    8      0\n",
       "\n",
       "[29889 rows x 10 columns]"
      ]
     },
     "execution_count": 13,
     "metadata": {},
     "output_type": "execute_result"
    }
   ],
   "source": [
    "data"
   ]
  },
  {
   "cell_type": "code",
   "execution_count": 14,
   "id": "bc8f71ee",
   "metadata": {},
   "outputs": [
    {
     "name": "stdout",
     "output_type": "stream",
     "text": [
      "<class 'pandas.core.frame.DataFrame'>\n",
      "RangeIndex: 29889 entries, 0 to 29888\n",
      "Data columns (total 10 columns):\n",
      " #   Column  Non-Null Count  Dtype  \n",
      "---  ------  --------------  -----  \n",
      " 0   v1      29889 non-null  int32  \n",
      " 1   v2      29889 non-null  int32  \n",
      " 2   v3      29889 non-null  int32  \n",
      " 3   v4      29889 non-null  float64\n",
      " 4   v8      29889 non-null  float64\n",
      " 5   v10     29889 non-null  float64\n",
      " 6   v11     29889 non-null  float64\n",
      " 7   v13     29889 non-null  int32  \n",
      " 8   v14     29889 non-null  int32  \n",
      " 9   Churn   29889 non-null  int64  \n",
      "dtypes: float64(4), int32(5), int64(1)\n",
      "memory usage: 1.7 MB\n"
     ]
    }
   ],
   "source": [
    "data.info() # checked all features are of Numeric Datatype as our model can be on numeric dtype only"
   ]
  },
  {
   "cell_type": "code",
   "execution_count": 15,
   "id": "cbd63f7f",
   "metadata": {},
   "outputs": [],
   "source": [
    "# function created for visualization of data distribution\n",
    "\n",
    "\n",
    "def plotvariable(df,variable):\n",
    "    plt.figure(figsize = (16,4))\n",
    "    \n",
    "    # histogram\n",
    "    plt.subplot(1,3,1)\n",
    "    plt.hist(df[variable],alpha = 0.5,color=\"g\")\n",
    "    \n",
    "    # boxplot\n",
    "    plt.subplot(1,3,2)\n",
    "    sns.boxplot(df[variable],color=\"y\")\n",
    "    \n",
    "    # distribution plot\n",
    "    plt.subplot(1,3,3)\n",
    "    sns.distplot(df[variable],color=\"r\")\n",
    "\n",
    "    plt.show"
   ]
  },
  {
   "cell_type": "code",
   "execution_count": 16,
   "id": "18e5e736",
   "metadata": {
    "scrolled": false
   },
   "outputs": [
    {
     "data": {
      "image/png": "[encoded data removed]",
      "text/plain": [
       "<Figure size 1152x288 with 3 Axes>"
      ]
     },
     "metadata": {
      "needs_background": "light"
     },
     "output_type": "display_data"
    },
    {
     "data": {
      "image/png": "[encoded data removed]",
      "text/plain": [
       "<Figure size 1152x288 with 3 Axes>"
      ]
     },
     "metadata": {
      "needs_background": "light"
     },
     "output_type": "display_data"
    },
    {
     "data": {
      "image/png": "[encoded data removed]",
      "text/plain": [
       "<Figure size 1152x288 with 3 Axes>"
      ]
     },
     "metadata": {
      "needs_background": "light"
     },
     "output_type": "display_data"
    }
   ],
   "source": [
    "column_list = ['v4','v8','v10']\n",
    "for column in column_list:\n",
    "    plotvariable(data,column)"
   ]
  },
  {
   "cell_type": "code",
   "execution_count": 17,
   "id": "dd9f5b00",
   "metadata": {},
   "outputs": [],
   "source": [
    "data.v4 = np.log(data.v4+ 0.001)\n",
    "\n",
    "data.v10 = np.log(data.v10+ 0.01)\n"
   ]
  },
  {
   "cell_type": "code",
   "execution_count": 18,
   "id": "6e2914b4",
   "metadata": {},
   "outputs": [
    {
     "data": {
      "image/png": "[encoded data removed]",
      "text/plain": [
       "<Figure size 1152x288 with 3 Axes>"
      ]
     },
     "metadata": {
      "needs_background": "light"
     },
     "output_type": "display_data"
    },
    {
     "data": {
      "image/png": "[encoded data removed]",
      "text/plain": [
       "<Figure size 1152x288 with 3 Axes>"
      ]
     },
     "metadata": {
      "needs_background": "light"
     },
     "output_type": "display_data"
    }
   ],
   "source": [
    "column_list = ['v4','v10']\n",
    "for column in column_list:\n",
    "    plotvariable(data,column)"
   ]
  },
  {
   "cell_type": "markdown",
   "id": "613a7d82",
   "metadata": {},
   "source": [
    "## Correlation matrix"
   ]
  },
  {
   "cell_type": "code",
   "execution_count": 19,
   "id": "92521224",
   "metadata": {},
   "outputs": [
    {
     "data": {
      "text/plain": [
       "<AxesSubplot:>"
      ]
     },
     "execution_count": 19,
     "metadata": {},
     "output_type": "execute_result"
    },
    {
     "data": {
      "image/png": "[encoded data removed]",
      "text/plain": [
       "<Figure size 720x576 with 2 Axes>"
      ]
     },
     "metadata": {
      "needs_background": "light"
     },
     "output_type": "display_data"
    }
   ],
   "source": [
    "plt.figure(figsize=(10,8))\n",
    "sns.heatmap(data.corr(),annot = True)"
   ]
  },
  {
   "cell_type": "code",
   "execution_count": 20,
   "id": "5fc598ba",
   "metadata": {},
   "outputs": [
    {
     "data": {
      "image/png": "[encoded data removed]",
      "text/plain": [
       "<Figure size 360x360 with 1 Axes>"
      ]
     },
     "metadata": {
      "needs_background": "light"
     },
     "output_type": "display_data"
    },
    {
     "data": {
      "text/plain": [
       "<AxesSubplot:ylabel='Churn'>"
      ]
     },
     "execution_count": 20,
     "metadata": {},
     "output_type": "execute_result"
    },
    {
     "data": {
      "image/png": "[encoded data removed]",
      "text/plain": [
       "<Figure size 432x288 with 1 Axes>"
      ]
     },
     "metadata": {},
     "output_type": "display_data"
    }
   ],
   "source": [
    "# Count plot for Target Variable(Churn)\n",
    "plt.figure(figsize=(5,5))\n",
    "sns.countplot(data['Churn'])\n",
    "plt.show()\n",
    "data['Churn'].value_counts().plot(kind='pie',autopct=\"%1.2f%%\")\n",
    "#Conclusion: Dataset is unbalanced as the 72.30% belongs to class 0 and 27.70% belongs to class 1"
   ]
  },
  {
   "cell_type": "code",
   "execution_count": 21,
   "id": "0a093040",
   "metadata": {},
   "outputs": [],
   "source": [
    "# Used SMOTE technique to Balance the Data\n",
    "\n",
    "from imblearn.over_sampling import SMOTE\n",
    "\n",
    "sm = SMOTE()"
   ]
  },
  {
   "cell_type": "code",
   "execution_count": 22,
   "id": "943f9a00",
   "metadata": {},
   "outputs": [],
   "source": [
    "x = data.drop('Churn',axis = 1)\n",
    "y = data['Churn']"
   ]
  },
  {
   "cell_type": "code",
   "execution_count": 23,
   "id": "2790de20",
   "metadata": {},
   "outputs": [],
   "source": [
    "x_train, x_test, y_train, y_test = train_test_split(x,y,test_size=0.2, random_state=1,stratify=y)\n",
    "\n",
    "sm = SMOTE(random_state=10)\n",
    "\n",
    "x_train_smote,y_train_smote = sm.fit_resample(x_train,y_train)\n"
   ]
  },
  {
   "cell_type": "code",
   "execution_count": 24,
   "id": "88b364c7",
   "metadata": {},
   "outputs": [
    {
     "data": {
      "text/plain": [
       "<AxesSubplot:>"
      ]
     },
     "execution_count": 24,
     "metadata": {},
     "output_type": "execute_result"
    },
    {
     "data": {
      "image/png": "[encoded data removed]",
      "text/plain": [
       "<Figure size 432x288 with 1 Axes>"
      ]
     },
     "metadata": {
      "needs_background": "light"
     },
     "output_type": "display_data"
    }
   ],
   "source": [
    "y_train_smote.value_counts().plot(kind='bar') # Balanced data with SMOTE"
   ]
  },
  {
   "cell_type": "markdown",
   "id": "d6aedaf5",
   "metadata": {},
   "source": [
    "# Model Building & Evaluations"
   ]
  },
  {
   "cell_type": "markdown",
   "id": "6bbf49ee",
   "metadata": {},
   "source": [
    "## Logistic Regression"
   ]
  },
  {
   "cell_type": "code",
   "execution_count": 25,
   "id": "8eb70904",
   "metadata": {},
   "outputs": [],
   "source": [
    "log = LogisticRegression()\n",
    "log.fit(x_train_smote,y_train_smote)\n",
    "y_pred = log.predict(x_test)"
   ]
  },
  {
   "cell_type": "code",
   "execution_count": 26,
   "id": "289359f3",
   "metadata": {},
   "outputs": [
    {
     "name": "stdout",
     "output_type": "stream",
     "text": [
      "Confusion Metrics\n",
      "[[3207  225]\n",
      " [1115 1431]]\n",
      "\n",
      "#########################\n",
      "\n",
      "Classification Report\n",
      "              precision    recall  f1-score   support\n",
      "\n",
      "           0       0.74      0.93      0.83      3432\n",
      "           1       0.86      0.56      0.68      2546\n",
      "\n",
      "    accuracy                           0.78      5978\n",
      "   macro avg       0.80      0.75      0.75      5978\n",
      "weighted avg       0.79      0.78      0.76      5978\n",
      "\n",
      "\n",
      "#########################\n",
      "\n",
      "Train accuracy: 0.7801848521600937\n",
      "Test accuracy: 0.7758447641351622\n"
     ]
    }
   ],
   "source": [
    "cf_metrics_lr = confusion_matrix(y_pred,y_test)\n",
    "\n",
    "print(f\"Confusion Metrics\\n{cf_metrics_lr}\")\n",
    "print(\"\\n#########################\\n\")\n",
    "clf_report_lr = classification_report(y_pred,y_test)\n",
    "print(f\"Classification Report\\n{clf_report_lr}\")\n",
    "print(\"\\n#########################\\n\")\n",
    "print(f'Train accuracy: {log.score(x_train,y_train)}')\n",
    "print(f'Test accuracy: {log.score(x_test,y_test)}')"
   ]
  },
  {
   "cell_type": "markdown",
   "id": "272b3c20",
   "metadata": {},
   "source": [
    "## KNN"
   ]
  },
  {
   "cell_type": "code",
   "execution_count": 27,
   "id": "cc39d387",
   "metadata": {},
   "outputs": [],
   "source": [
    "knn = KNeighborsClassifier(n_neighbors=5)\n",
    "knn.fit(x_train_smote,y_train_smote)\n",
    "y_pred = knn.predict(x_test)"
   ]
  },
  {
   "cell_type": "code",
   "execution_count": 28,
   "id": "07cc66bf",
   "metadata": {},
   "outputs": [
    {
     "name": "stdout",
     "output_type": "stream",
     "text": [
      "Confusion Metrics\n",
      "[[3158  614]\n",
      " [1164 1042]]\n",
      "\n",
      "#########################\n",
      "\n",
      "Classification Report\n",
      "              precision    recall  f1-score   support\n",
      "\n",
      "           0       0.73      0.84      0.78      3772\n",
      "           1       0.63      0.47      0.54      2206\n",
      "\n",
      "    accuracy                           0.70      5978\n",
      "   macro avg       0.68      0.65      0.66      5978\n",
      "weighted avg       0.69      0.70      0.69      5978\n",
      "\n",
      "\n",
      "#########################\n",
      "\n",
      "Train accuracy: 0.8137677219689683\n",
      "Test accuracy: 0.702576112412178\n"
     ]
    }
   ],
   "source": [
    "cf_metrics_knn = confusion_matrix(y_pred,y_test)\n",
    "\n",
    "print(f\"Confusion Metrics\\n{cf_metrics_knn}\")\n",
    "print(\"\\n#########################\\n\")\n",
    "\n",
    "clf_report_knn = classification_report(y_pred,y_test)\n",
    "\n",
    "print(f\"Classification Report\\n{clf_report_knn}\")\n",
    "print(\"\\n#########################\\n\")\n",
    "\n",
    "print(f'Train accuracy: {knn.score(x_train,y_train)}')\n",
    "print(f'Test accuracy: {knn.score(x_test,y_test)}')"
   ]
  },
  {
   "cell_type": "markdown",
   "id": "5a886684",
   "metadata": {},
   "source": [
    "### With MinMaxScaler"
   ]
  },
  {
   "cell_type": "code",
   "execution_count": 29,
   "id": "2d22403e",
   "metadata": {
    "scrolled": true
   },
   "outputs": [
    {
     "data": {
      "text/html": [
       "<div>\n",
       "<style scoped>\n",
       "    .dataframe tbody tr th:only-of-type {\n",
       "        vertical-align: middle;\n",
       "    }\n",
       "\n",
       "    .dataframe tbody tr th {\n",
       "        vertical-align: top;\n",
       "    }\n",
       "\n",
       "    .dataframe thead th {\n",
       "        text-align: right;\n",
       "    }\n",
       "</style>\n",
       "<table border=\"1\" class=\"dataframe\">\n",
       "  <thead>\n",
       "    <tr style=\"text-align: right;\">\n",
       "      <th></th>\n",
       "      <th>v1</th>\n",
       "      <th>v2</th>\n",
       "      <th>v3</th>\n",
       "      <th>v4</th>\n",
       "      <th>v8</th>\n",
       "      <th>v10</th>\n",
       "      <th>v11</th>\n",
       "      <th>v13</th>\n",
       "      <th>v14</th>\n",
       "    </tr>\n",
       "  </thead>\n",
       "  <tbody>\n",
       "    <tr>\n",
       "      <th>0</th>\n",
       "      <td>0.390625</td>\n",
       "      <td>0.387187</td>\n",
       "      <td>0.902965</td>\n",
       "      <td>0.794341</td>\n",
       "      <td>0.849999</td>\n",
       "      <td>0.000000</td>\n",
       "      <td>0.0</td>\n",
       "      <td>0.153846</td>\n",
       "      <td>0.027559</td>\n",
       "    </tr>\n",
       "    <tr>\n",
       "      <th>1</th>\n",
       "      <td>0.421875</td>\n",
       "      <td>0.296657</td>\n",
       "      <td>0.805750</td>\n",
       "      <td>0.794341</td>\n",
       "      <td>0.849999</td>\n",
       "      <td>0.000000</td>\n",
       "      <td>0.0</td>\n",
       "      <td>0.153846</td>\n",
       "      <td>0.027559</td>\n",
       "    </tr>\n",
       "    <tr>\n",
       "      <th>2</th>\n",
       "      <td>0.453125</td>\n",
       "      <td>0.181523</td>\n",
       "      <td>0.280144</td>\n",
       "      <td>0.794341</td>\n",
       "      <td>0.849999</td>\n",
       "      <td>0.000000</td>\n",
       "      <td>0.0</td>\n",
       "      <td>0.153846</td>\n",
       "      <td>0.027559</td>\n",
       "    </tr>\n",
       "    <tr>\n",
       "      <th>3</th>\n",
       "      <td>0.390625</td>\n",
       "      <td>0.366760</td>\n",
       "      <td>0.651932</td>\n",
       "      <td>0.792771</td>\n",
       "      <td>0.849999</td>\n",
       "      <td>0.000000</td>\n",
       "      <td>0.0</td>\n",
       "      <td>0.153846</td>\n",
       "      <td>0.027559</td>\n",
       "    </tr>\n",
       "    <tr>\n",
       "      <th>4</th>\n",
       "      <td>0.453125</td>\n",
       "      <td>0.633705</td>\n",
       "      <td>0.129560</td>\n",
       "      <td>0.794341</td>\n",
       "      <td>0.849999</td>\n",
       "      <td>0.000000</td>\n",
       "      <td>0.0</td>\n",
       "      <td>0.153846</td>\n",
       "      <td>0.027559</td>\n",
       "    </tr>\n",
       "    <tr>\n",
       "      <th>...</th>\n",
       "      <td>...</td>\n",
       "      <td>...</td>\n",
       "      <td>...</td>\n",
       "      <td>...</td>\n",
       "      <td>...</td>\n",
       "      <td>...</td>\n",
       "      <td>...</td>\n",
       "      <td>...</td>\n",
       "      <td>...</td>\n",
       "    </tr>\n",
       "    <tr>\n",
       "      <th>29884</th>\n",
       "      <td>0.453125</td>\n",
       "      <td>0.426648</td>\n",
       "      <td>0.331896</td>\n",
       "      <td>0.794341</td>\n",
       "      <td>0.849999</td>\n",
       "      <td>0.501898</td>\n",
       "      <td>0.0</td>\n",
       "      <td>0.000000</td>\n",
       "      <td>0.027559</td>\n",
       "    </tr>\n",
       "    <tr>\n",
       "      <th>29885</th>\n",
       "      <td>0.046875</td>\n",
       "      <td>0.619313</td>\n",
       "      <td>0.099910</td>\n",
       "      <td>0.682154</td>\n",
       "      <td>0.099940</td>\n",
       "      <td>0.651849</td>\n",
       "      <td>1.0</td>\n",
       "      <td>0.153846</td>\n",
       "      <td>0.500000</td>\n",
       "    </tr>\n",
       "    <tr>\n",
       "      <th>29886</th>\n",
       "      <td>0.015625</td>\n",
       "      <td>0.619313</td>\n",
       "      <td>0.099910</td>\n",
       "      <td>0.689691</td>\n",
       "      <td>0.115397</td>\n",
       "      <td>0.620653</td>\n",
       "      <td>1.0</td>\n",
       "      <td>0.230769</td>\n",
       "      <td>0.228346</td>\n",
       "    </tr>\n",
       "    <tr>\n",
       "      <th>29887</th>\n",
       "      <td>0.062500</td>\n",
       "      <td>0.268338</td>\n",
       "      <td>0.300629</td>\n",
       "      <td>0.700445</td>\n",
       "      <td>0.141681</td>\n",
       "      <td>0.620653</td>\n",
       "      <td>1.0</td>\n",
       "      <td>0.230769</td>\n",
       "      <td>0.031496</td>\n",
       "    </tr>\n",
       "    <tr>\n",
       "      <th>29888</th>\n",
       "      <td>0.125000</td>\n",
       "      <td>0.833798</td>\n",
       "      <td>0.915723</td>\n",
       "      <td>0.703764</td>\n",
       "      <td>0.150943</td>\n",
       "      <td>0.620653</td>\n",
       "      <td>1.0</td>\n",
       "      <td>0.153846</td>\n",
       "      <td>0.031496</td>\n",
       "    </tr>\n",
       "  </tbody>\n",
       "</table>\n",
       "<p>29889 rows × 9 columns</p>\n",
       "</div>"
      ],
      "text/plain": [
       "             v1        v2        v3        v4        v8       v10  v11  \\\n",
       "0      0.390625  0.387187  0.902965  0.794341  0.849999  0.000000  0.0   \n",
       "1      0.421875  0.296657  0.805750  0.794341  0.849999  0.000000  0.0   \n",
       "2      0.453125  0.181523  0.280144  0.794341  0.849999  0.000000  0.0   \n",
       "3      0.390625  0.366760  0.651932  0.792771  0.849999  0.000000  0.0   \n",
       "4      0.453125  0.633705  0.129560  0.794341  0.849999  0.000000  0.0   \n",
       "...         ...       ...       ...       ...       ...       ...  ...   \n",
       "29884  0.453125  0.426648  0.331896  0.794341  0.849999  0.501898  0.0   \n",
       "29885  0.046875  0.619313  0.099910  0.682154  0.099940  0.651849  1.0   \n",
       "29886  0.015625  0.619313  0.099910  0.689691  0.115397  0.620653  1.0   \n",
       "29887  0.062500  0.268338  0.300629  0.700445  0.141681  0.620653  1.0   \n",
       "29888  0.125000  0.833798  0.915723  0.703764  0.150943  0.620653  1.0   \n",
       "\n",
       "            v13       v14  \n",
       "0      0.153846  0.027559  \n",
       "1      0.153846  0.027559  \n",
       "2      0.153846  0.027559  \n",
       "3      0.153846  0.027559  \n",
       "4      0.153846  0.027559  \n",
       "...         ...       ...  \n",
       "29884  0.000000  0.027559  \n",
       "29885  0.153846  0.500000  \n",
       "29886  0.230769  0.228346  \n",
       "29887  0.230769  0.031496  \n",
       "29888  0.153846  0.031496  \n",
       "\n",
       "[29889 rows x 9 columns]"
      ]
     },
     "execution_count": 29,
     "metadata": {},
     "output_type": "execute_result"
    }
   ],
   "source": [
    "normal_scaler = MinMaxScaler()\n",
    "x1_scaled = normal_scaler.fit_transform(x)\n",
    "x_scaled = pd.DataFrame(x1_scaled,columns= x.columns)\n",
    "x_scaled"
   ]
  },
  {
   "cell_type": "code",
   "execution_count": 30,
   "id": "2d19ea0f",
   "metadata": {},
   "outputs": [],
   "source": [
    "x_train, x_test, y_train, y_test = train_test_split(x_scaled,y,test_size=0.2, random_state=1,stratify=y)\n",
    "\n",
    "sm = SMOTE(random_state=10)\n",
    "\n",
    "x_train_smote,y_train_smote = sm.fit_resample(x_train,y_train)\n"
   ]
  },
  {
   "cell_type": "code",
   "execution_count": 31,
   "id": "6396aa69",
   "metadata": {},
   "outputs": [],
   "source": [
    "knn_mm_scaled = KNeighborsClassifier(n_neighbors=5)\n",
    "knn_mm_scaled.fit(x_train_smote,y_train_smote)\n",
    "y_pred = knn_mm_scaled.predict(x_test)"
   ]
  },
  {
   "cell_type": "code",
   "execution_count": 32,
   "id": "c7e0ad42",
   "metadata": {},
   "outputs": [
    {
     "name": "stdout",
     "output_type": "stream",
     "text": [
      "Confusion Metrics\n",
      "[[3447  310]\n",
      " [ 875 1346]]\n",
      "\n",
      "#########################\n",
      "\n",
      "Classification Report\n",
      "              precision    recall  f1-score   support\n",
      "\n",
      "           0       0.80      0.92      0.85      3757\n",
      "           1       0.81      0.61      0.69      2221\n",
      "\n",
      "    accuracy                           0.80      5978\n",
      "   macro avg       0.81      0.76      0.77      5978\n",
      "weighted avg       0.80      0.80      0.79      5978\n",
      "\n",
      "\n",
      "#########################\n",
      "\n",
      "Train accuracy: 0.8600225837480657\n",
      "Test accuracy: 0.8017731682837069\n"
     ]
    }
   ],
   "source": [
    "cf_metrics_knn_mm_scaled = confusion_matrix(y_pred,y_test)\n",
    "\n",
    "print(f\"Confusion Metrics\\n{cf_metrics_knn_mm_scaled}\")\n",
    "print(\"\\n#########################\\n\")\n",
    "\n",
    "clf_report_knn_mm_scaled = classification_report(y_pred,y_test)\n",
    "\n",
    "print(f\"Classification Report\\n{clf_report_knn_mm_scaled}\")\n",
    "print(\"\\n#########################\\n\")\n",
    "\n",
    "print(f'Train accuracy: {knn_mm_scaled.score(x_train,y_train)}')\n",
    "print(f'Test accuracy: {knn_mm_scaled.score(x_test,y_test)}')"
   ]
  },
  {
   "cell_type": "markdown",
   "id": "6f6a10a5",
   "metadata": {},
   "source": [
    "## Decision Tree"
   ]
  },
  {
   "cell_type": "code",
   "execution_count": 33,
   "id": "9929f9a2",
   "metadata": {},
   "outputs": [],
   "source": [
    "dt = DecisionTreeClassifier(random_state=1)\n",
    "dt.fit(x_train_smote,y_train_smote)\n",
    "y_pred = dt.predict(x_test)"
   ]
  },
  {
   "cell_type": "code",
   "execution_count": 34,
   "id": "80bcd7b9",
   "metadata": {},
   "outputs": [
    {
     "name": "stdout",
     "output_type": "stream",
     "text": [
      "Confusion Metrics\n",
      "[[3685  599]\n",
      " [ 637 1057]]\n",
      "\n",
      "#########################\n",
      "\n",
      "Classification Report\n",
      "              precision    recall  f1-score   support\n",
      "\n",
      "           0       0.85      0.86      0.86      4284\n",
      "           1       0.64      0.62      0.63      1694\n",
      "\n",
      "    accuracy                           0.79      5978\n",
      "   macro avg       0.75      0.74      0.74      5978\n",
      "weighted avg       0.79      0.79      0.79      5978\n",
      "\n",
      "\n",
      "#########################\n",
      "\n",
      "Train accuracy: 0.9870770774957133\n",
      "Test accuracy: 0.7932418869187019\n"
     ]
    }
   ],
   "source": [
    "cf_metrics_dt = confusion_matrix(y_pred,y_test)\n",
    "\n",
    "print(f\"Confusion Metrics\\n{cf_metrics_dt}\")\n",
    "print(\"\\n#########################\\n\")\n",
    "\n",
    "clf_report_dt = classification_report(y_pred,y_test)\n",
    "\n",
    "print(f\"Classification Report\\n{clf_report_dt}\")\n",
    "print(\"\\n#########################\\n\")\n",
    "\n",
    "print(f'Train accuracy: {dt.score(x_train,y_train)}')\n",
    "print(f'Test accuracy: {dt.score(x_test,y_test)}')"
   ]
  },
  {
   "cell_type": "markdown",
   "id": "a8be293b",
   "metadata": {},
   "source": [
    "## Hyperparameter Tunning"
   ]
  },
  {
   "cell_type": "markdown",
   "id": "7b5eeb0d",
   "metadata": {},
   "source": [
    "### RandomizedSearchCV"
   ]
  },
  {
   "cell_type": "code",
   "execution_count": 35,
   "id": "96e8c9d2",
   "metadata": {},
   "outputs": [
    {
     "data": {
      "text/plain": [
       "RandomizedSearchCV(cv=5, estimator=DecisionTreeClassifier(random_state=1),\n",
       "                   param_distributions={'criterion': ['gini', 'entropy'],\n",
       "                                        'max_depth': array([2, 3, 4, 5, 6, 7, 8, 9]),\n",
       "                                        'min_samples_leaf': array([ 1,  2,  3,  4,  5,  6,  7,  8,  9, 10, 11, 12, 13, 14]),\n",
       "                                        'min_samples_split': array([ 2,  3,  4,  5,  6,  7,  8,  9, 10, 11, 12, 13, 14, 15, 16, 17, 18,\n",
       "       19])})"
      ]
     },
     "execution_count": 35,
     "metadata": {},
     "output_type": "execute_result"
    }
   ],
   "source": [
    "hyperparameters = { \"criterion\" : ['gini','entropy'],\n",
    "                    \"max_depth\" : np.arange(2,10),\n",
    "                    \"min_samples_split\" : np.arange(2,20),  # branch node\n",
    "                    \"min_samples_leaf\": np.arange(1,15)}    # Leaf node\n",
    "\n",
    "dt_rscv = RandomizedSearchCV(dt,hyperparameters,cv = 5)\n",
    "dt_rscv.fit(x_train_smote,y_train_smote)"
   ]
  },
  {
   "cell_type": "code",
   "execution_count": 36,
   "id": "883b38dc",
   "metadata": {},
   "outputs": [
    {
     "data": {
      "text/plain": [
       "{'min_samples_split': 14,\n",
       " 'min_samples_leaf': 2,\n",
       " 'max_depth': 9,\n",
       " 'criterion': 'entropy'}"
      ]
     },
     "execution_count": 36,
     "metadata": {},
     "output_type": "execute_result"
    }
   ],
   "source": [
    "dt_rscv.best_params_"
   ]
  },
  {
   "cell_type": "code",
   "execution_count": 37,
   "id": "9683c068",
   "metadata": {},
   "outputs": [],
   "source": [
    "dt_model_rscv = DecisionTreeClassifier(random_state =1,\n",
    "                              criterion =  'entropy',\n",
    "                             max_depth =  9,\n",
    "                             min_samples_leaf = 13,\n",
    "                             min_samples_split = 8)\n",
    "dt_model_rscv.fit(x_train_smote, y_train_smote)\n",
    "y_pred = dt_model_rscv.predict(x_test)"
   ]
  },
  {
   "cell_type": "code",
   "execution_count": 38,
   "id": "a401382a",
   "metadata": {},
   "outputs": [
    {
     "name": "stdout",
     "output_type": "stream",
     "text": [
      "Confusion Metrics\n",
      "[[3374  157]\n",
      " [ 948 1499]]\n",
      "\n",
      "#########################\n",
      "\n",
      "Classification Report\n",
      "              precision    recall  f1-score   support\n",
      "\n",
      "           0       0.78      0.96      0.86      3531\n",
      "           1       0.91      0.61      0.73      2447\n",
      "\n",
      "    accuracy                           0.82      5978\n",
      "   macro avg       0.84      0.78      0.79      5978\n",
      "weighted avg       0.83      0.82      0.81      5978\n",
      "\n",
      "\n",
      "#########################\n",
      "\n",
      "Train accuracy: 0.8259378528710636\n",
      "Test accuracy: 0.8151555704248913\n"
     ]
    }
   ],
   "source": [
    "cf_metrics_dt_rscv = confusion_matrix(y_pred,y_test)\n",
    "\n",
    "print(f\"Confusion Metrics\\n{cf_metrics_dt_rscv}\")\n",
    "print(\"\\n#########################\\n\")\n",
    "\n",
    "clf_report_dt_rscv = classification_report(y_pred,y_test)\n",
    "\n",
    "print(f\"Classification Report\\n{clf_report_dt_rscv}\")\n",
    "print(\"\\n#########################\\n\")\n",
    "\n",
    "print(f'Train accuracy: {dt_model_rscv.score(x_train,y_train)}')\n",
    "print(f'Test accuracy: {dt_model_rscv.score(x_test,y_test)}')"
   ]
  },
  {
   "cell_type": "markdown",
   "id": "0a51f8ce",
   "metadata": {},
   "source": [
    "## Randomforest "
   ]
  },
  {
   "cell_type": "code",
   "execution_count": 39,
   "id": "87f2c153",
   "metadata": {},
   "outputs": [],
   "source": [
    "rf = RandomForestClassifier(random_state=1)\n",
    "rf.fit(x_train_smote, y_train_smote)\n",
    "y_pred = rf.predict(x_test)"
   ]
  },
  {
   "cell_type": "code",
   "execution_count": 40,
   "id": "fcc27c45",
   "metadata": {},
   "outputs": [
    {
     "name": "stdout",
     "output_type": "stream",
     "text": [
      "Confusion Metrics\n",
      "[[3730  461]\n",
      " [ 592 1195]]\n",
      "\n",
      "#########################\n",
      "\n",
      "Classification Report\n",
      "              precision    recall  f1-score   support\n",
      "\n",
      "           0       0.86      0.89      0.88      4191\n",
      "           1       0.72      0.67      0.69      1787\n",
      "\n",
      "    accuracy                           0.82      5978\n",
      "   macro avg       0.79      0.78      0.79      5978\n",
      "weighted avg       0.82      0.82      0.82      5978\n",
      "\n",
      "\n",
      "#########################\n",
      "\n",
      "Train accuracy: 0.9869516122286813\n",
      "Test accuracy: 0.8238541318166611\n"
     ]
    }
   ],
   "source": [
    "cf_metrics_rf = confusion_matrix(y_pred,y_test)\n",
    "\n",
    "print(f\"Confusion Metrics\\n{cf_metrics_rf}\")\n",
    "print(\"\\n#########################\\n\")\n",
    "\n",
    "clf_report_rf = classification_report(y_pred,y_test)\n",
    "\n",
    "print(f\"Classification Report\\n{clf_report_rf}\")\n",
    "print(\"\\n#########################\\n\")\n",
    "\n",
    "print(f'Train accuracy: {rf.score(x_train,y_train)}')\n",
    "print(f'Test accuracy: {rf.score(x_test,y_test)}')"
   ]
  },
  {
   "cell_type": "markdown",
   "id": "1fcd3fd6",
   "metadata": {},
   "source": [
    "## With Hyperparameter Tuning"
   ]
  },
  {
   "cell_type": "markdown",
   "id": "f1c04fca",
   "metadata": {},
   "source": [
    "### RandomizedSearchCV"
   ]
  },
  {
   "cell_type": "code",
   "execution_count": 41,
   "id": "a5761e7f",
   "metadata": {},
   "outputs": [
    {
     "data": {
      "text/plain": [
       "RandomizedSearchCV(cv=5, estimator=RandomForestClassifier(random_state=1),\n",
       "                   param_distributions={'criterion': ['gini', 'entropy'],\n",
       "                                        'max_depth': array([2, 3, 4, 5, 6, 7, 8, 9]),\n",
       "                                        'max_features': ['auto', 'sqrt',\n",
       "                                                         'log2'],\n",
       "                                        'min_samples_leaf': array([ 1,  2,  3,  4,  5,  6,  7,  8,  9, 10, 11, 12, 13, 14]),\n",
       "                                        'min_samples_split': array([ 2,  3,  4,  5,  6,  7,  8,  9, 10, 11, 12, 13, 14, 15, 16, 17, 18,\n",
       "       19]),\n",
       "                                        'n_estimators': [20, 65, 110, 155,\n",
       "                                                         200]})"
      ]
     },
     "execution_count": 41,
     "metadata": {},
     "output_type": "execute_result"
    }
   ],
   "source": [
    "hyperparameters = { \"criterion\" : ['gini','entropy'],\n",
    "                    \"max_depth\" : np.arange(2,10),\n",
    "                    \"min_samples_split\" : np.arange(2,20),  # branch node\n",
    "                    \"min_samples_leaf\": np.arange(1,15),    # Leaf node\n",
    "                  \"max_features\":['auto', \"sqrt\", \"log2\"],\n",
    "                  \"n_estimators\": [20, 65, 110, 155, 200]}    \n",
    "\n",
    "rf_rscv = RandomizedSearchCV(rf,hyperparameters,cv = 5)\n",
    "rf_rscv.fit(x_train_smote,y_train_smote)"
   ]
  },
  {
   "cell_type": "code",
   "execution_count": 42,
   "id": "cd0acacc",
   "metadata": {},
   "outputs": [
    {
     "data": {
      "text/plain": [
       "{'n_estimators': 20,\n",
       " 'min_samples_split': 8,\n",
       " 'min_samples_leaf': 10,\n",
       " 'max_features': 'sqrt',\n",
       " 'max_depth': 9,\n",
       " 'criterion': 'entropy'}"
      ]
     },
     "execution_count": 42,
     "metadata": {},
     "output_type": "execute_result"
    }
   ],
   "source": [
    "rf_rscv.best_params_"
   ]
  },
  {
   "cell_type": "code",
   "execution_count": 43,
   "id": "6511ba89",
   "metadata": {},
   "outputs": [],
   "source": [
    "rf_rscv = RandomForestClassifier(random_state =1,\n",
    "                                 n_estimators = 20,\n",
    "                              criterion =  'entropy',\n",
    "                                 max_features =\"log2\",\n",
    "                             max_depth =  9,\n",
    "                             min_samples_leaf = 6,\n",
    "                             min_samples_split = 5)\n",
    "rf_rscv.fit(x_train_smote, y_train_smote)\n",
    "y_pred = rf_rscv.predict(x_test)"
   ]
  },
  {
   "cell_type": "code",
   "execution_count": 44,
   "id": "8ea43104",
   "metadata": {},
   "outputs": [
    {
     "name": "stdout",
     "output_type": "stream",
     "text": [
      "Confusion Metrics\n",
      "[[3424  151]\n",
      " [ 898 1505]]\n",
      "\n",
      "#########################\n",
      "\n",
      "Classification Report\n",
      "              precision    recall  f1-score   support\n",
      "\n",
      "           0       0.79      0.96      0.87      3575\n",
      "           1       0.91      0.63      0.74      2403\n",
      "\n",
      "    accuracy                           0.82      5978\n",
      "   macro avg       0.85      0.79      0.80      5978\n",
      "weighted avg       0.84      0.82      0.82      5978\n",
      "\n",
      "\n",
      "#########################\n",
      "\n",
      "Train accuracy: 0.8355986784325206\n",
      "Test accuracy: 0.8245232519237203\n"
     ]
    }
   ],
   "source": [
    "cf_metrics_rf_rscv = confusion_matrix(y_pred,y_test)\n",
    "\n",
    "print(f\"Confusion Metrics\\n{cf_metrics_rf_rscv}\")\n",
    "print(\"\\n#########################\\n\")\n",
    "\n",
    "clf_report_rf_rscv = classification_report(y_pred,y_test)\n",
    "\n",
    "print(f\"Classification Report\\n{clf_report_rf_rscv}\")\n",
    "print(\"\\n#########################\\n\")\n",
    "\n",
    "print(f'Train accuracy: {rf_rscv.score(x_train,y_train)}')\n",
    "print(f'Test accuracy: {rf_rscv.score(x_test,y_test)}')"
   ]
  },
  {
   "cell_type": "markdown",
   "id": "78d58f46",
   "metadata": {},
   "source": [
    "## Adaboost"
   ]
  },
  {
   "cell_type": "code",
   "execution_count": 45,
   "id": "34075caa",
   "metadata": {},
   "outputs": [],
   "source": [
    "adb =AdaBoostClassifier(DecisionTreeClassifier(max_depth=5),n_estimators=100)\n",
    "adb.fit(x_train_smote,y_train_smote)\n",
    "y_pred=adb.predict(x_test)"
   ]
  },
  {
   "cell_type": "code",
   "execution_count": 46,
   "id": "e79592b2",
   "metadata": {},
   "outputs": [
    {
     "name": "stdout",
     "output_type": "stream",
     "text": [
      "Confusion Metrics\n",
      "[[3607  368]\n",
      " [ 715 1288]]\n",
      "\n",
      "#########################\n",
      "\n",
      "Classification Report\n",
      "              precision    recall  f1-score   support\n",
      "\n",
      "           0       0.83      0.91      0.87      3975\n",
      "           1       0.78      0.64      0.70      2003\n",
      "\n",
      "    accuracy                           0.82      5978\n",
      "   macro avg       0.81      0.78      0.79      5978\n",
      "weighted avg       0.82      0.82      0.81      5978\n",
      "\n",
      "\n",
      "#########################\n",
      "\n",
      "Train accuracy: 0.9011751913345323\n",
      "Test accuracy: 0.818835731013717\n"
     ]
    }
   ],
   "source": [
    "cf_metrics_ab = confusion_matrix(y_pred,y_test)\n",
    "\n",
    "print(f\"Confusion Metrics\\n{cf_metrics_ab}\")\n",
    "print(\"\\n#########################\\n\")\n",
    "\n",
    "clf_report_ab = classification_report(y_pred,y_test)\n",
    "\n",
    "print(f\"Classification Report\\n{clf_report_ab}\")\n",
    "print(\"\\n#########################\\n\")\n",
    "\n",
    "print(f'Train accuracy: {adb.score(x_train,y_train)}')\n",
    "print(f'Test accuracy: {adb.score(x_test,y_test)}')"
   ]
  },
  {
   "cell_type": "markdown",
   "id": "e75c9120",
   "metadata": {},
   "source": [
    "# Result"
   ]
  },
  {
   "cell_type": "code",
   "execution_count": 47,
   "id": "3aefeece",
   "metadata": {},
   "outputs": [
    {
     "data": {
      "text/html": [
       "<div>\n",
       "<style scoped>\n",
       "    .dataframe tbody tr th:only-of-type {\n",
       "        vertical-align: middle;\n",
       "    }\n",
       "\n",
       "    .dataframe tbody tr th {\n",
       "        vertical-align: top;\n",
       "    }\n",
       "\n",
       "    .dataframe thead th {\n",
       "        text-align: right;\n",
       "    }\n",
       "</style>\n",
       "<table border=\"1\" class=\"dataframe\">\n",
       "  <thead>\n",
       "    <tr style=\"text-align: right;\">\n",
       "      <th></th>\n",
       "      <th>Model 1</th>\n",
       "      <th>Model 2</th>\n",
       "      <th>Model 3</th>\n",
       "      <th>Model 4</th>\n",
       "      <th>Model 5</th>\n",
       "    </tr>\n",
       "  </thead>\n",
       "  <tbody>\n",
       "    <tr>\n",
       "      <th>Algorithm</th>\n",
       "      <td>Logistic</td>\n",
       "      <td>KNN</td>\n",
       "      <td>DT</td>\n",
       "      <td>RF</td>\n",
       "      <td>ADB</td>\n",
       "    </tr>\n",
       "    <tr>\n",
       "      <th>Train Accuracy</th>\n",
       "      <td>0.7801</td>\n",
       "      <td>0.86</td>\n",
       "      <td>0.8259</td>\n",
       "      <td>0.8355</td>\n",
       "      <td>0.9019</td>\n",
       "    </tr>\n",
       "    <tr>\n",
       "      <th>Test Accuracy</th>\n",
       "      <td>0.7801</td>\n",
       "      <td>0.8017</td>\n",
       "      <td>0.8151</td>\n",
       "      <td>0.8245</td>\n",
       "      <td>0.8124</td>\n",
       "    </tr>\n",
       "  </tbody>\n",
       "</table>\n",
       "</div>"
      ],
      "text/plain": [
       "                 Model 1 Model 2 Model 3 Model 4 Model 5\n",
       "Algorithm       Logistic     KNN      DT      RF     ADB\n",
       "Train Accuracy    0.7801    0.86  0.8259  0.8355  0.9019\n",
       "Test Accuracy     0.7801  0.8017  0.8151  0.8245  0.8124"
      ]
     },
     "execution_count": 47,
     "metadata": {},
     "output_type": "execute_result"
    }
   ],
   "source": [
    "dictionary = {'Algorithm':['Logistic','KNN','DT','RF','ADB'],\n",
    "              'Train Accuracy':[0.7801,0.8600,0.8259,0.8355,0.9019],\n",
    "              'Test Accuracy':[0.7801,0.8017,0.8151,0.8245,0.8124]}\n",
    "             \n",
    "summary = pd.DataFrame(dictionary,index = ['Model 1','Model 2','Model 3','Model 4','Model 5'])\n",
    "summary.T"
   ]
  }
 ],
 "metadata": {
  "kernelspec": {
   "display_name": "Python 3",
   "language": "python",
   "name": "python3"
  },
  "language_info": {
   "codemirror_mode": {
    "name": "ipython",
    "version": 3
   },
   "file_extension": ".py",
   "mimetype": "text/x-python",
   "name": "python",
   "nbconvert_exporter": "python",
   "pygments_lexer": "ipython3",
   "version": "3.8.8"
  }
 },
 "nbformat": 4,
 "nbformat_minor": 5
}
